{
 "cells": [
  {
   "cell_type": "code",
   "execution_count": 1,
   "metadata": {
    "collapsed": true,
    "ExecuteTime": {
     "end_time": "2023-05-09T03:49:28.503200Z",
     "start_time": "2023-05-09T03:49:27.530247Z"
    }
   },
   "outputs": [],
   "source": [
    "import http.client\n",
    "import json\n",
    "import pandas as pd\n",
    "import requests\n",
    "import config"
   ]
  },
  {
   "cell_type": "code",
   "execution_count": 8,
   "outputs": [],
   "source": [
    "url = f'https://api.sportmonks.com/v3/football/fixtures?api_token={config.api_key}&include=participants'\n",
    "\n",
    "response = requests.get(url)\n",
    "data = response.json()\n",
    "\n",
    "df = pd.DataFrame(data['data'])"
   ],
   "metadata": {
    "collapsed": false,
    "ExecuteTime": {
     "end_time": "2023-05-09T03:50:51.999692Z",
     "start_time": "2023-05-09T03:50:51.387834Z"
    }
   }
  },
  {
   "cell_type": "code",
   "execution_count": 9,
   "outputs": [
    {
     "data": {
      "text/plain": "       id  sport_id  league_id  season_id  stage_id group_id aggregate_id  \\\n0  216268         1        271       1273      1086     None         None   \n1  216269         1        271       1273      1086     None         None   \n2  216270         1        271       1273      1086     None         None   \n3  216271         1        271       1273      1086     None         None   \n4  216272         1        271       1273      1086     None         None   \n\n   round_id  state_id  venue_id                         name  \\\n0     23332         5       618                Esbjerg vs OB   \n1     23329         5     85765             AaB vs København   \n2     23333         5     85371             Silkeborg vs AGF   \n3     23325         5      1436  Nordsjælland vs SønderjyskE   \n4     23332         5      5661            Horsens vs Viborg   \n\n           starting_at          result_info  leg details  length  placeholder  \\\n0  2006-03-25 16:00:00  Game ended in draw.  1/1    None      90        False   \n1  2005-11-27 16:30:00  Game ended in draw.  1/1    None      90        False   \n2  2006-03-29 17:00:00  Game ended in draw.  1/1    None      90        False   \n3  2005-10-23 13:00:00  Game ended in draw.  1/1    None      90        False   \n4  2006-03-19 14:00:00  Game ended in draw.  1/1    None      90        False   \n\n   has_odds  starting_at_timestamp  \\\n0     False             1143302400   \n1     False             1133109000   \n2     False             1143651600   \n3     False             1130072400   \n4     False             1142776800   \n\n                                        participants  \n0  [{'id': 1371, 'sport_id': 1, 'country_id': 320...  \n1  [{'id': 1020, 'sport_id': 1, 'country_id': 320...  \n2  [{'id': 86, 'sport_id': 1, 'country_id': 320, ...  \n3  [{'id': 2394, 'sport_id': 1, 'country_id': 320...  \n4  [{'id': 211, 'sport_id': 1, 'country_id': 320,...  ",
      "text/html": "<div>\n<style scoped>\n    .dataframe tbody tr th:only-of-type {\n        vertical-align: middle;\n    }\n\n    .dataframe tbody tr th {\n        vertical-align: top;\n    }\n\n    .dataframe thead th {\n        text-align: right;\n    }\n</style>\n<table border=\"1\" class=\"dataframe\">\n  <thead>\n    <tr style=\"text-align: right;\">\n      <th></th>\n      <th>id</th>\n      <th>sport_id</th>\n      <th>league_id</th>\n      <th>season_id</th>\n      <th>stage_id</th>\n      <th>group_id</th>\n      <th>aggregate_id</th>\n      <th>round_id</th>\n      <th>state_id</th>\n      <th>venue_id</th>\n      <th>name</th>\n      <th>starting_at</th>\n      <th>result_info</th>\n      <th>leg</th>\n      <th>details</th>\n      <th>length</th>\n      <th>placeholder</th>\n      <th>has_odds</th>\n      <th>starting_at_timestamp</th>\n      <th>participants</th>\n    </tr>\n  </thead>\n  <tbody>\n    <tr>\n      <th>0</th>\n      <td>216268</td>\n      <td>1</td>\n      <td>271</td>\n      <td>1273</td>\n      <td>1086</td>\n      <td>None</td>\n      <td>None</td>\n      <td>23332</td>\n      <td>5</td>\n      <td>618</td>\n      <td>Esbjerg vs OB</td>\n      <td>2006-03-25 16:00:00</td>\n      <td>Game ended in draw.</td>\n      <td>1/1</td>\n      <td>None</td>\n      <td>90</td>\n      <td>False</td>\n      <td>False</td>\n      <td>1143302400</td>\n      <td>[{'id': 1371, 'sport_id': 1, 'country_id': 320...</td>\n    </tr>\n    <tr>\n      <th>1</th>\n      <td>216269</td>\n      <td>1</td>\n      <td>271</td>\n      <td>1273</td>\n      <td>1086</td>\n      <td>None</td>\n      <td>None</td>\n      <td>23329</td>\n      <td>5</td>\n      <td>85765</td>\n      <td>AaB vs København</td>\n      <td>2005-11-27 16:30:00</td>\n      <td>Game ended in draw.</td>\n      <td>1/1</td>\n      <td>None</td>\n      <td>90</td>\n      <td>False</td>\n      <td>False</td>\n      <td>1133109000</td>\n      <td>[{'id': 1020, 'sport_id': 1, 'country_id': 320...</td>\n    </tr>\n    <tr>\n      <th>2</th>\n      <td>216270</td>\n      <td>1</td>\n      <td>271</td>\n      <td>1273</td>\n      <td>1086</td>\n      <td>None</td>\n      <td>None</td>\n      <td>23333</td>\n      <td>5</td>\n      <td>85371</td>\n      <td>Silkeborg vs AGF</td>\n      <td>2006-03-29 17:00:00</td>\n      <td>Game ended in draw.</td>\n      <td>1/1</td>\n      <td>None</td>\n      <td>90</td>\n      <td>False</td>\n      <td>False</td>\n      <td>1143651600</td>\n      <td>[{'id': 86, 'sport_id': 1, 'country_id': 320, ...</td>\n    </tr>\n    <tr>\n      <th>3</th>\n      <td>216271</td>\n      <td>1</td>\n      <td>271</td>\n      <td>1273</td>\n      <td>1086</td>\n      <td>None</td>\n      <td>None</td>\n      <td>23325</td>\n      <td>5</td>\n      <td>1436</td>\n      <td>Nordsjælland vs SønderjyskE</td>\n      <td>2005-10-23 13:00:00</td>\n      <td>Game ended in draw.</td>\n      <td>1/1</td>\n      <td>None</td>\n      <td>90</td>\n      <td>False</td>\n      <td>False</td>\n      <td>1130072400</td>\n      <td>[{'id': 2394, 'sport_id': 1, 'country_id': 320...</td>\n    </tr>\n    <tr>\n      <th>4</th>\n      <td>216272</td>\n      <td>1</td>\n      <td>271</td>\n      <td>1273</td>\n      <td>1086</td>\n      <td>None</td>\n      <td>None</td>\n      <td>23332</td>\n      <td>5</td>\n      <td>5661</td>\n      <td>Horsens vs Viborg</td>\n      <td>2006-03-19 14:00:00</td>\n      <td>Game ended in draw.</td>\n      <td>1/1</td>\n      <td>None</td>\n      <td>90</td>\n      <td>False</td>\n      <td>False</td>\n      <td>1142776800</td>\n      <td>[{'id': 211, 'sport_id': 1, 'country_id': 320,...</td>\n    </tr>\n  </tbody>\n</table>\n</div>"
     },
     "execution_count": 9,
     "metadata": {},
     "output_type": "execute_result"
    }
   ],
   "source": [
    "df.head()"
   ],
   "metadata": {
    "collapsed": false,
    "ExecuteTime": {
     "end_time": "2023-05-09T03:50:52.578132Z",
     "start_time": "2023-05-09T03:50:52.574524Z"
    }
   }
  },
  {
   "cell_type": "code",
   "execution_count": 12,
   "outputs": [
    {
     "data": {
      "text/plain": "                                                   0  \\\n0  {'id': 1371, 'sport_id': 1, 'country_id': 320,...   \n1  {'id': 1020, 'sport_id': 1, 'country_id': 320,...   \n2  {'id': 86, 'sport_id': 1, 'country_id': 320, '...   \n3  {'id': 2394, 'sport_id': 1, 'country_id': 320,...   \n4  {'id': 211, 'sport_id': 1, 'country_id': 320, ...   \n\n                                                   1  \n0  {'id': 1789, 'sport_id': 1, 'country_id': 320,...  \n1  {'id': 85, 'sport_id': 1, 'country_id': 320, '...  \n2  {'id': 2905, 'sport_id': 1, 'country_id': 320,...  \n3  {'id': 390, 'sport_id': 1, 'country_id': 320, ...  \n4  {'id': 2447, 'sport_id': 1, 'country_id': 320,...  ",
      "text/html": "<div>\n<style scoped>\n    .dataframe tbody tr th:only-of-type {\n        vertical-align: middle;\n    }\n\n    .dataframe tbody tr th {\n        vertical-align: top;\n    }\n\n    .dataframe thead th {\n        text-align: right;\n    }\n</style>\n<table border=\"1\" class=\"dataframe\">\n  <thead>\n    <tr style=\"text-align: right;\">\n      <th></th>\n      <th>0</th>\n      <th>1</th>\n    </tr>\n  </thead>\n  <tbody>\n    <tr>\n      <th>0</th>\n      <td>{'id': 1371, 'sport_id': 1, 'country_id': 320,...</td>\n      <td>{'id': 1789, 'sport_id': 1, 'country_id': 320,...</td>\n    </tr>\n    <tr>\n      <th>1</th>\n      <td>{'id': 1020, 'sport_id': 1, 'country_id': 320,...</td>\n      <td>{'id': 85, 'sport_id': 1, 'country_id': 320, '...</td>\n    </tr>\n    <tr>\n      <th>2</th>\n      <td>{'id': 86, 'sport_id': 1, 'country_id': 320, '...</td>\n      <td>{'id': 2905, 'sport_id': 1, 'country_id': 320,...</td>\n    </tr>\n    <tr>\n      <th>3</th>\n      <td>{'id': 2394, 'sport_id': 1, 'country_id': 320,...</td>\n      <td>{'id': 390, 'sport_id': 1, 'country_id': 320, ...</td>\n    </tr>\n    <tr>\n      <th>4</th>\n      <td>{'id': 211, 'sport_id': 1, 'country_id': 320, ...</td>\n      <td>{'id': 2447, 'sport_id': 1, 'country_id': 320,...</td>\n    </tr>\n  </tbody>\n</table>\n</div>"
     },
     "execution_count": 12,
     "metadata": {},
     "output_type": "execute_result"
    }
   ],
   "source": [
    "participants = pd.DataFrame(df['participants'].values.tolist())\n",
    "participants.head()"
   ],
   "metadata": {
    "collapsed": false,
    "ExecuteTime": {
     "end_time": "2023-05-09T03:52:52.062587Z",
     "start_time": "2023-05-09T03:52:52.058927Z"
    }
   }
  },
  {
   "cell_type": "code",
   "execution_count": 18,
   "outputs": [],
   "source": [
    "home = pd.DataFrame(participants[0].values.tolist())\n",
    "away = pd.DataFrame(participants[1].values.tolist())"
   ],
   "metadata": {
    "collapsed": false,
    "ExecuteTime": {
     "end_time": "2023-05-09T03:56:07.465313Z",
     "start_time": "2023-05-09T03:56:07.459159Z"
    }
   }
  },
  {
   "cell_type": "code",
   "execution_count": 19,
   "outputs": [
    {
     "data": {
      "text/plain": "     id  sport_id  country_id  venue_id gender          name short_code  \\\n0  1371         1         320       618   male       Esbjerg        ESB   \n1  1020         1         320     85765   male           AaB        AAB   \n2    86         1         320     85371   male     Silkeborg        SIL   \n3  2394         1         320      1436   male  Nordsjælland        FCN   \n4   211         1         320      5661   male       Horsens        ACH   \n\n                                          image_path  founded      type  \\\n0  https://cdn.sportmonks.com/images/soccer/teams...     1924  domestic   \n1  https://cdn.sportmonks.com/images/soccer/teams...     1885  domestic   \n2  https://cdn.sportmonks.com/images/soccer/teams...     1917  domestic   \n3  https://cdn.sportmonks.com/images/soccer/teams...     2003  domestic   \n4  https://cdn.sportmonks.com/images/soccer/teams...     1994  domestic   \n\n   placeholder       last_played_at  \\\n0        False  2023-05-07 11:00:00   \n1        False  2023-05-07 10:00:00   \n2        False  2023-05-07 12:00:00   \n3        False  2023-05-08 17:00:00   \n4        False  2023-05-07 10:00:00   \n\n                                                meta  \n0  {'location': 'home', 'winner': False, 'positio...  \n1  {'location': 'home', 'winner': False, 'positio...  \n2  {'location': 'home', 'winner': False, 'positio...  \n3  {'location': 'home', 'winner': False, 'positio...  \n4  {'location': 'home', 'winner': False, 'positio...  ",
      "text/html": "<div>\n<style scoped>\n    .dataframe tbody tr th:only-of-type {\n        vertical-align: middle;\n    }\n\n    .dataframe tbody tr th {\n        vertical-align: top;\n    }\n\n    .dataframe thead th {\n        text-align: right;\n    }\n</style>\n<table border=\"1\" class=\"dataframe\">\n  <thead>\n    <tr style=\"text-align: right;\">\n      <th></th>\n      <th>id</th>\n      <th>sport_id</th>\n      <th>country_id</th>\n      <th>venue_id</th>\n      <th>gender</th>\n      <th>name</th>\n      <th>short_code</th>\n      <th>image_path</th>\n      <th>founded</th>\n      <th>type</th>\n      <th>placeholder</th>\n      <th>last_played_at</th>\n      <th>meta</th>\n    </tr>\n  </thead>\n  <tbody>\n    <tr>\n      <th>0</th>\n      <td>1371</td>\n      <td>1</td>\n      <td>320</td>\n      <td>618</td>\n      <td>male</td>\n      <td>Esbjerg</td>\n      <td>ESB</td>\n      <td>https://cdn.sportmonks.com/images/soccer/teams...</td>\n      <td>1924</td>\n      <td>domestic</td>\n      <td>False</td>\n      <td>2023-05-07 11:00:00</td>\n      <td>{'location': 'home', 'winner': False, 'positio...</td>\n    </tr>\n    <tr>\n      <th>1</th>\n      <td>1020</td>\n      <td>1</td>\n      <td>320</td>\n      <td>85765</td>\n      <td>male</td>\n      <td>AaB</td>\n      <td>AAB</td>\n      <td>https://cdn.sportmonks.com/images/soccer/teams...</td>\n      <td>1885</td>\n      <td>domestic</td>\n      <td>False</td>\n      <td>2023-05-07 10:00:00</td>\n      <td>{'location': 'home', 'winner': False, 'positio...</td>\n    </tr>\n    <tr>\n      <th>2</th>\n      <td>86</td>\n      <td>1</td>\n      <td>320</td>\n      <td>85371</td>\n      <td>male</td>\n      <td>Silkeborg</td>\n      <td>SIL</td>\n      <td>https://cdn.sportmonks.com/images/soccer/teams...</td>\n      <td>1917</td>\n      <td>domestic</td>\n      <td>False</td>\n      <td>2023-05-07 12:00:00</td>\n      <td>{'location': 'home', 'winner': False, 'positio...</td>\n    </tr>\n    <tr>\n      <th>3</th>\n      <td>2394</td>\n      <td>1</td>\n      <td>320</td>\n      <td>1436</td>\n      <td>male</td>\n      <td>Nordsjælland</td>\n      <td>FCN</td>\n      <td>https://cdn.sportmonks.com/images/soccer/teams...</td>\n      <td>2003</td>\n      <td>domestic</td>\n      <td>False</td>\n      <td>2023-05-08 17:00:00</td>\n      <td>{'location': 'home', 'winner': False, 'positio...</td>\n    </tr>\n    <tr>\n      <th>4</th>\n      <td>211</td>\n      <td>1</td>\n      <td>320</td>\n      <td>5661</td>\n      <td>male</td>\n      <td>Horsens</td>\n      <td>ACH</td>\n      <td>https://cdn.sportmonks.com/images/soccer/teams...</td>\n      <td>1994</td>\n      <td>domestic</td>\n      <td>False</td>\n      <td>2023-05-07 10:00:00</td>\n      <td>{'location': 'home', 'winner': False, 'positio...</td>\n    </tr>\n  </tbody>\n</table>\n</div>"
     },
     "execution_count": 19,
     "metadata": {},
     "output_type": "execute_result"
    }
   ],
   "source": [
    "home.head()"
   ],
   "metadata": {
    "collapsed": false,
    "ExecuteTime": {
     "end_time": "2023-05-09T03:56:07.911531Z",
     "start_time": "2023-05-09T03:56:07.907298Z"
    }
   }
  },
  {
   "cell_type": "code",
   "execution_count": 20,
   "outputs": [
    {
     "data": {
      "text/plain": "     id  sport_id  country_id  venue_id gender         name short_code  \\\n0  1789         1         320    214349   male           OB        ODE   \n1    85         1         320      5655   male    København        COP   \n2  2905         1         320      1708   male          AGF        AGF   \n3   390         1         320      5653   male  SønderjyskE        SON   \n4  2447         1         320      1467   male       Viborg       None   \n\n                                          image_path  founded      type  \\\n0  https://cdn.sportmonks.com/images/soccer/teams...     1889  domestic   \n1  https://cdn.sportmonks.com/images/soccer/teams...     1992  domestic   \n2  https://cdn.sportmonks.com/images/soccer/teams...     1902  domestic   \n3  https://cdn.sportmonks.com/images/soccer/teams...     2004  domestic   \n4  https://cdn.sportmonks.com/images/soccer/teams...     1896  domestic   \n\n   placeholder       last_played_at  \\\n0        False  2023-05-07 12:00:00   \n1        False  2023-05-08 17:00:00   \n2        False  2023-05-07 16:00:00   \n3        False  2023-05-06 11:00:00   \n4        False  2023-05-07 16:00:00   \n\n                                                meta  \n0  {'location': 'away', 'winner': False, 'positio...  \n1  {'location': 'away', 'winner': False, 'positio...  \n2  {'location': 'away', 'winner': False, 'positio...  \n3  {'location': 'away', 'winner': False, 'positio...  \n4  {'location': 'away', 'winner': False, 'positio...  ",
      "text/html": "<div>\n<style scoped>\n    .dataframe tbody tr th:only-of-type {\n        vertical-align: middle;\n    }\n\n    .dataframe tbody tr th {\n        vertical-align: top;\n    }\n\n    .dataframe thead th {\n        text-align: right;\n    }\n</style>\n<table border=\"1\" class=\"dataframe\">\n  <thead>\n    <tr style=\"text-align: right;\">\n      <th></th>\n      <th>id</th>\n      <th>sport_id</th>\n      <th>country_id</th>\n      <th>venue_id</th>\n      <th>gender</th>\n      <th>name</th>\n      <th>short_code</th>\n      <th>image_path</th>\n      <th>founded</th>\n      <th>type</th>\n      <th>placeholder</th>\n      <th>last_played_at</th>\n      <th>meta</th>\n    </tr>\n  </thead>\n  <tbody>\n    <tr>\n      <th>0</th>\n      <td>1789</td>\n      <td>1</td>\n      <td>320</td>\n      <td>214349</td>\n      <td>male</td>\n      <td>OB</td>\n      <td>ODE</td>\n      <td>https://cdn.sportmonks.com/images/soccer/teams...</td>\n      <td>1889</td>\n      <td>domestic</td>\n      <td>False</td>\n      <td>2023-05-07 12:00:00</td>\n      <td>{'location': 'away', 'winner': False, 'positio...</td>\n    </tr>\n    <tr>\n      <th>1</th>\n      <td>85</td>\n      <td>1</td>\n      <td>320</td>\n      <td>5655</td>\n      <td>male</td>\n      <td>København</td>\n      <td>COP</td>\n      <td>https://cdn.sportmonks.com/images/soccer/teams...</td>\n      <td>1992</td>\n      <td>domestic</td>\n      <td>False</td>\n      <td>2023-05-08 17:00:00</td>\n      <td>{'location': 'away', 'winner': False, 'positio...</td>\n    </tr>\n    <tr>\n      <th>2</th>\n      <td>2905</td>\n      <td>1</td>\n      <td>320</td>\n      <td>1708</td>\n      <td>male</td>\n      <td>AGF</td>\n      <td>AGF</td>\n      <td>https://cdn.sportmonks.com/images/soccer/teams...</td>\n      <td>1902</td>\n      <td>domestic</td>\n      <td>False</td>\n      <td>2023-05-07 16:00:00</td>\n      <td>{'location': 'away', 'winner': False, 'positio...</td>\n    </tr>\n    <tr>\n      <th>3</th>\n      <td>390</td>\n      <td>1</td>\n      <td>320</td>\n      <td>5653</td>\n      <td>male</td>\n      <td>SønderjyskE</td>\n      <td>SON</td>\n      <td>https://cdn.sportmonks.com/images/soccer/teams...</td>\n      <td>2004</td>\n      <td>domestic</td>\n      <td>False</td>\n      <td>2023-05-06 11:00:00</td>\n      <td>{'location': 'away', 'winner': False, 'positio...</td>\n    </tr>\n    <tr>\n      <th>4</th>\n      <td>2447</td>\n      <td>1</td>\n      <td>320</td>\n      <td>1467</td>\n      <td>male</td>\n      <td>Viborg</td>\n      <td>None</td>\n      <td>https://cdn.sportmonks.com/images/soccer/teams...</td>\n      <td>1896</td>\n      <td>domestic</td>\n      <td>False</td>\n      <td>2023-05-07 16:00:00</td>\n      <td>{'location': 'away', 'winner': False, 'positio...</td>\n    </tr>\n  </tbody>\n</table>\n</div>"
     },
     "execution_count": 20,
     "metadata": {},
     "output_type": "execute_result"
    }
   ],
   "source": [
    "away.head()"
   ],
   "metadata": {
    "collapsed": false,
    "ExecuteTime": {
     "end_time": "2023-05-09T03:56:08.374496Z",
     "start_time": "2023-05-09T03:56:08.368761Z"
    }
   }
  },
  {
   "cell_type": "code",
   "execution_count": null,
   "outputs": [],
   "source": [],
   "metadata": {
    "collapsed": false
   }
  }
 ],
 "metadata": {
  "kernelspec": {
   "display_name": "Python 3",
   "language": "python",
   "name": "python3"
  },
  "language_info": {
   "codemirror_mode": {
    "name": "ipython",
    "version": 2
   },
   "file_extension": ".py",
   "mimetype": "text/x-python",
   "name": "python",
   "nbconvert_exporter": "python",
   "pygments_lexer": "ipython2",
   "version": "2.7.6"
  }
 },
 "nbformat": 4,
 "nbformat_minor": 0
}
