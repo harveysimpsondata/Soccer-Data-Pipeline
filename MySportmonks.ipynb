{
 "cells": [
  {
   "cell_type": "code",
   "execution_count": 248,
   "metadata": {
    "collapsed": true,
    "ExecuteTime": {
     "end_time": "2023-05-09T16:30:30.294481Z",
     "start_time": "2023-05-09T16:30:30.289255Z"
    }
   },
   "outputs": [],
   "source": [
    "import http.client\n",
    "import json\n",
    "import pandas as pd\n",
    "from pandas.io.json import json_normalize\n",
    "import requests\n",
    "import config"
   ]
  },
  {
   "cell_type": "code",
   "execution_count": 262,
   "outputs": [
    {
     "name": "stdout",
     "output_type": "stream",
     "text": [
      "True\n",
      "False\n"
     ]
    }
   ],
   "source": [
    "url1 = f\"https://api.sportmonks.com/v3/football/fixtures/date/2022-09-06?api_token={config.api_key}&include=scores;participants\"\n",
    "url2 = f\"https://api.sportmonks.com/v3/football/fixtures/date/2022-09-03?api_token={config.api_key}&include=scores;participants\"\n",
    "\n",
    "response2 = requests.get(url2)\n",
    "data2 = response2.json()\n",
    "print('data' in data2)\n",
    "\n",
    "response1 = requests.get(url1)\n",
    "data1 = response1.json()\n",
    "print('data' in data1)\n",
    "\n"
   ],
   "metadata": {
    "collapsed": false,
    "ExecuteTime": {
     "end_time": "2023-05-09T16:42:58.461866Z",
     "start_time": "2023-05-09T16:42:57.436117Z"
    }
   }
  },
  {
   "cell_type": "code",
   "execution_count": 249,
   "outputs": [],
   "source": [
    "url = f\"https://api.sportmonks.com/v3/football/fixtures/date/2022-09-03?api_token={config.api_key}&include=scores;participants\"\n",
    "\n",
    "response = requests.get(url)\n",
    "data = response.json()\n",
    "df = pd.DataFrame(data['data'])\\\n",
    "       .drop(columns=['id', 'sport_id', 'stage_id', 'league_id', 'season_id', 'group_id', 'aggregate_id', 'round_id', 'state_id', 'venue_id', 'leg','details','length','placeholder','has_odds','starting_at_timestamp'])"
   ],
   "metadata": {
    "collapsed": false,
    "ExecuteTime": {
     "end_time": "2023-05-09T16:30:30.773404Z",
     "start_time": "2023-05-09T16:30:30.294669Z"
    }
   }
  },
  {
   "cell_type": "code",
   "execution_count": 250,
   "outputs": [
    {
     "data": {
      "text/plain": "                          name          starting_at  \\\n0            Celtic vs Rangers  2022-09-03 11:30:00   \n1      Hibernian vs Kilmarnock  2022-09-03 14:00:00   \n2         Livingston vs Hearts  2022-09-03 14:00:00   \n3  Motherwell vs Dundee United  2022-09-03 14:00:00   \n4      Ross County vs Aberdeen  2022-09-03 14:00:00   \n5  St. Johnstone vs St. Mirren  2022-09-03 14:00:00   \n\n                          result_info  \\\n0         Celtic won after full-time.   \n1      Hibernian won after full-time.   \n2     Livingston won after full-time.   \n3                 Game ended in draw.   \n4                 Game ended in draw.   \n5  St. Johnstone won after full-time.   \n\n                                              scores  \\\n0  [{'id': 11316768, 'fixture_id': 18535517, 'typ...   \n1  [{'id': 11316774, 'fixture_id': 18535518, 'typ...   \n2  [{'id': 11316780, 'fixture_id': 18535519, 'typ...   \n3  [{'id': 11316786, 'fixture_id': 18535520, 'typ...   \n4  [{'id': 11316792, 'fixture_id': 18535521, 'typ...   \n5  [{'id': 11316798, 'fixture_id': 18535522, 'typ...   \n\n                                        participants  \n0  [{'id': 53, 'sport_id': 1, 'country_id': 1161,...  \n1  [{'id': 66, 'sport_id': 1, 'country_id': 1161,...  \n2  [{'id': 258, 'sport_id': 1, 'country_id': 1161...  \n3  [{'id': 309, 'sport_id': 1, 'country_id': 1161...  \n4  [{'id': 273, 'sport_id': 1, 'country_id': 1161...  \n5  [{'id': 734, 'sport_id': 1, 'country_id': 1161...  ",
      "text/html": "<div>\n<style scoped>\n    .dataframe tbody tr th:only-of-type {\n        vertical-align: middle;\n    }\n\n    .dataframe tbody tr th {\n        vertical-align: top;\n    }\n\n    .dataframe thead th {\n        text-align: right;\n    }\n</style>\n<table border=\"1\" class=\"dataframe\">\n  <thead>\n    <tr style=\"text-align: right;\">\n      <th></th>\n      <th>name</th>\n      <th>starting_at</th>\n      <th>result_info</th>\n      <th>scores</th>\n      <th>participants</th>\n    </tr>\n  </thead>\n  <tbody>\n    <tr>\n      <th>0</th>\n      <td>Celtic vs Rangers</td>\n      <td>2022-09-03 11:30:00</td>\n      <td>Celtic won after full-time.</td>\n      <td>[{'id': 11316768, 'fixture_id': 18535517, 'typ...</td>\n      <td>[{'id': 53, 'sport_id': 1, 'country_id': 1161,...</td>\n    </tr>\n    <tr>\n      <th>1</th>\n      <td>Hibernian vs Kilmarnock</td>\n      <td>2022-09-03 14:00:00</td>\n      <td>Hibernian won after full-time.</td>\n      <td>[{'id': 11316774, 'fixture_id': 18535518, 'typ...</td>\n      <td>[{'id': 66, 'sport_id': 1, 'country_id': 1161,...</td>\n    </tr>\n    <tr>\n      <th>2</th>\n      <td>Livingston vs Hearts</td>\n      <td>2022-09-03 14:00:00</td>\n      <td>Livingston won after full-time.</td>\n      <td>[{'id': 11316780, 'fixture_id': 18535519, 'typ...</td>\n      <td>[{'id': 258, 'sport_id': 1, 'country_id': 1161...</td>\n    </tr>\n    <tr>\n      <th>3</th>\n      <td>Motherwell vs Dundee United</td>\n      <td>2022-09-03 14:00:00</td>\n      <td>Game ended in draw.</td>\n      <td>[{'id': 11316786, 'fixture_id': 18535520, 'typ...</td>\n      <td>[{'id': 309, 'sport_id': 1, 'country_id': 1161...</td>\n    </tr>\n    <tr>\n      <th>4</th>\n      <td>Ross County vs Aberdeen</td>\n      <td>2022-09-03 14:00:00</td>\n      <td>Game ended in draw.</td>\n      <td>[{'id': 11316792, 'fixture_id': 18535521, 'typ...</td>\n      <td>[{'id': 273, 'sport_id': 1, 'country_id': 1161...</td>\n    </tr>\n    <tr>\n      <th>5</th>\n      <td>St. Johnstone vs St. Mirren</td>\n      <td>2022-09-03 14:00:00</td>\n      <td>St. Johnstone won after full-time.</td>\n      <td>[{'id': 11316798, 'fixture_id': 18535522, 'typ...</td>\n      <td>[{'id': 734, 'sport_id': 1, 'country_id': 1161...</td>\n    </tr>\n  </tbody>\n</table>\n</div>"
     },
     "execution_count": 250,
     "metadata": {},
     "output_type": "execute_result"
    }
   ],
   "source": [
    "df"
   ],
   "metadata": {
    "collapsed": false,
    "ExecuteTime": {
     "end_time": "2023-05-09T16:30:30.802567Z",
     "start_time": "2023-05-09T16:30:30.797149Z"
    }
   }
  },
  {
   "cell_type": "code",
   "execution_count": 251,
   "outputs": [],
   "source": [
    "scores = pd.json_normalize(df.scores, sep='_').rename(columns={4:'home_score', 5:'away_score'}).drop(columns=[0,1,2,3])\n",
    "home_scores = pd.json_normalize(scores.home_score, sep='_')\\\n",
    "                .rename(columns={'score_goals':'total_home_goals'})\\\n",
    "                .drop(columns=['score_participant', 'description', 'type_id', 'fixture_id', 'id', 'participant_id'])\n",
    "\n",
    "away_scores = pd.json_normalize(scores.away_score, sep='_')\\\n",
    "                .rename(columns={'score_goals':'total_away_goals'})\\\n",
    "                .drop(columns=['score_participant', 'description', 'type_id', 'fixture_id', 'id', 'participant_id'])\n",
    "\n"
   ],
   "metadata": {
    "collapsed": false,
    "ExecuteTime": {
     "end_time": "2023-05-09T16:30:30.808441Z",
     "start_time": "2023-05-09T16:30:30.806178Z"
    }
   }
  },
  {
   "cell_type": "code",
   "execution_count": 252,
   "outputs": [],
   "source": [
    "\n",
    "participants = pd.json_normalize(df.participants, sep='_').rename(columns={0:'home', 1:'away'})\n",
    "\n",
    "away = pd.json_normalize(participants.away, sep='_')\\\n",
    "         .rename(columns={'id':'away_id', 'name':'away_name', 'image_path':'away_image_path', 'founded':'away_founded', 'short_code': 'away_short_code'})\\\n",
    "         .drop(columns=['sport_id', 'type', 'placeholder', 'meta_location', 'meta_winner', 'meta_position', 'gender', 'last_played_at', 'venue_id'])\n",
    "\n",
    "home = pd.json_normalize(participants.home, sep='_')\\\n",
    "         .rename(columns={'id':'home_id', 'name':'home_name', 'image_path':'home_image_path', 'founded':'home_founded', 'short_code': 'home_short_code'})\\\n",
    "         .drop(columns=['sport_id', 'type', 'placeholder', 'meta_location', 'meta_winner', 'meta_position', 'gender', 'last_played_at', 'venue_id'])\n",
    "\n",
    "df = pd.concat([df, home, away, home_scores, away_scores], axis=1)"
   ],
   "metadata": {
    "collapsed": false,
    "ExecuteTime": {
     "end_time": "2023-05-09T16:30:30.819153Z",
     "start_time": "2023-05-09T16:30:30.813125Z"
    }
   }
  },
  {
   "cell_type": "code",
   "execution_count": 253,
   "outputs": [
    {
     "data": {
      "text/plain": "                          name          starting_at  \\\n0            Celtic vs Rangers  2022-09-03 11:30:00   \n1      Hibernian vs Kilmarnock  2022-09-03 14:00:00   \n2         Livingston vs Hearts  2022-09-03 14:00:00   \n3  Motherwell vs Dundee United  2022-09-03 14:00:00   \n4      Ross County vs Aberdeen  2022-09-03 14:00:00   \n5  St. Johnstone vs St. Mirren  2022-09-03 14:00:00   \n\n                          result_info  \\\n0         Celtic won after full-time.   \n1      Hibernian won after full-time.   \n2     Livingston won after full-time.   \n3                 Game ended in draw.   \n4                 Game ended in draw.   \n5  St. Johnstone won after full-time.   \n\n                                              scores  \\\n0  [{'id': 11316768, 'fixture_id': 18535517, 'typ...   \n1  [{'id': 11316774, 'fixture_id': 18535518, 'typ...   \n2  [{'id': 11316780, 'fixture_id': 18535519, 'typ...   \n3  [{'id': 11316786, 'fixture_id': 18535520, 'typ...   \n4  [{'id': 11316792, 'fixture_id': 18535521, 'typ...   \n5  [{'id': 11316798, 'fixture_id': 18535522, 'typ...   \n\n                                        participants  home_id  country_id  \\\n0  [{'id': 53, 'sport_id': 1, 'country_id': 1161,...       53        1161   \n1  [{'id': 66, 'sport_id': 1, 'country_id': 1161,...       66        1161   \n2  [{'id': 258, 'sport_id': 1, 'country_id': 1161...      258        1161   \n3  [{'id': 309, 'sport_id': 1, 'country_id': 1161...      309        1161   \n4  [{'id': 273, 'sport_id': 1, 'country_id': 1161...      273        1161   \n5  [{'id': 734, 'sport_id': 1, 'country_id': 1161...      734        1161   \n\n       home_name home_short_code  \\\n0         Celtic             CEL   \n1      Hibernian             HIB   \n2     Livingston             LIV   \n3     Motherwell             MOT   \n4       Aberdeen             ABE   \n5  St. Johnstone             STJ   \n\n                                     home_image_path  home_founded  away_id  \\\n0  https://cdn.sportmonks.com/images/soccer/teams...          1888       62   \n1  https://cdn.sportmonks.com/images/soccer/teams...          1875      180   \n2  https://cdn.sportmonks.com/images/soccer/teams...          1943      314   \n3  https://cdn.sportmonks.com/images/soccer/teams...          1886      282   \n4  https://cdn.sportmonks.com/images/soccer/teams...          1903      246   \n5  https://cdn.sportmonks.com/images/soccer/teams...          1885      496   \n\n   country_id      away_name away_short_code  \\\n0        1161        Rangers             RAN   \n1        1161     Kilmarnock             KIL   \n2        1161         Hearts            None   \n3        1161  Dundee United             DUD   \n4        1161    Ross County             RSC   \n5        1161     St. Mirren             STM   \n\n                                     away_image_path  away_founded  \\\n0  https://cdn.sportmonks.com/images/soccer/teams...          1873   \n1  https://cdn.sportmonks.com/images/soccer/teams...          1869   \n2  https://cdn.sportmonks.com/images/soccer/teams...          1874   \n3  https://cdn.sportmonks.com/images/soccer/teams...          1909   \n4  https://cdn.sportmonks.com/images/soccer/teams...          1929   \n5  https://cdn.sportmonks.com/images/soccer/teams...          1877   \n\n   total_home_goals  total_away_goals  \n0                 4                 0  \n1                 1                 0  \n2                 1                 0  \n3                 0                 0  \n4                 1                 1  \n5                 3                 0  ",
      "text/html": "<div>\n<style scoped>\n    .dataframe tbody tr th:only-of-type {\n        vertical-align: middle;\n    }\n\n    .dataframe tbody tr th {\n        vertical-align: top;\n    }\n\n    .dataframe thead th {\n        text-align: right;\n    }\n</style>\n<table border=\"1\" class=\"dataframe\">\n  <thead>\n    <tr style=\"text-align: right;\">\n      <th></th>\n      <th>name</th>\n      <th>starting_at</th>\n      <th>result_info</th>\n      <th>scores</th>\n      <th>participants</th>\n      <th>home_id</th>\n      <th>country_id</th>\n      <th>home_name</th>\n      <th>home_short_code</th>\n      <th>home_image_path</th>\n      <th>home_founded</th>\n      <th>away_id</th>\n      <th>country_id</th>\n      <th>away_name</th>\n      <th>away_short_code</th>\n      <th>away_image_path</th>\n      <th>away_founded</th>\n      <th>total_home_goals</th>\n      <th>total_away_goals</th>\n    </tr>\n  </thead>\n  <tbody>\n    <tr>\n      <th>0</th>\n      <td>Celtic vs Rangers</td>\n      <td>2022-09-03 11:30:00</td>\n      <td>Celtic won after full-time.</td>\n      <td>[{'id': 11316768, 'fixture_id': 18535517, 'typ...</td>\n      <td>[{'id': 53, 'sport_id': 1, 'country_id': 1161,...</td>\n      <td>53</td>\n      <td>1161</td>\n      <td>Celtic</td>\n      <td>CEL</td>\n      <td>https://cdn.sportmonks.com/images/soccer/teams...</td>\n      <td>1888</td>\n      <td>62</td>\n      <td>1161</td>\n      <td>Rangers</td>\n      <td>RAN</td>\n      <td>https://cdn.sportmonks.com/images/soccer/teams...</td>\n      <td>1873</td>\n      <td>4</td>\n      <td>0</td>\n    </tr>\n    <tr>\n      <th>1</th>\n      <td>Hibernian vs Kilmarnock</td>\n      <td>2022-09-03 14:00:00</td>\n      <td>Hibernian won after full-time.</td>\n      <td>[{'id': 11316774, 'fixture_id': 18535518, 'typ...</td>\n      <td>[{'id': 66, 'sport_id': 1, 'country_id': 1161,...</td>\n      <td>66</td>\n      <td>1161</td>\n      <td>Hibernian</td>\n      <td>HIB</td>\n      <td>https://cdn.sportmonks.com/images/soccer/teams...</td>\n      <td>1875</td>\n      <td>180</td>\n      <td>1161</td>\n      <td>Kilmarnock</td>\n      <td>KIL</td>\n      <td>https://cdn.sportmonks.com/images/soccer/teams...</td>\n      <td>1869</td>\n      <td>1</td>\n      <td>0</td>\n    </tr>\n    <tr>\n      <th>2</th>\n      <td>Livingston vs Hearts</td>\n      <td>2022-09-03 14:00:00</td>\n      <td>Livingston won after full-time.</td>\n      <td>[{'id': 11316780, 'fixture_id': 18535519, 'typ...</td>\n      <td>[{'id': 258, 'sport_id': 1, 'country_id': 1161...</td>\n      <td>258</td>\n      <td>1161</td>\n      <td>Livingston</td>\n      <td>LIV</td>\n      <td>https://cdn.sportmonks.com/images/soccer/teams...</td>\n      <td>1943</td>\n      <td>314</td>\n      <td>1161</td>\n      <td>Hearts</td>\n      <td>None</td>\n      <td>https://cdn.sportmonks.com/images/soccer/teams...</td>\n      <td>1874</td>\n      <td>1</td>\n      <td>0</td>\n    </tr>\n    <tr>\n      <th>3</th>\n      <td>Motherwell vs Dundee United</td>\n      <td>2022-09-03 14:00:00</td>\n      <td>Game ended in draw.</td>\n      <td>[{'id': 11316786, 'fixture_id': 18535520, 'typ...</td>\n      <td>[{'id': 309, 'sport_id': 1, 'country_id': 1161...</td>\n      <td>309</td>\n      <td>1161</td>\n      <td>Motherwell</td>\n      <td>MOT</td>\n      <td>https://cdn.sportmonks.com/images/soccer/teams...</td>\n      <td>1886</td>\n      <td>282</td>\n      <td>1161</td>\n      <td>Dundee United</td>\n      <td>DUD</td>\n      <td>https://cdn.sportmonks.com/images/soccer/teams...</td>\n      <td>1909</td>\n      <td>0</td>\n      <td>0</td>\n    </tr>\n    <tr>\n      <th>4</th>\n      <td>Ross County vs Aberdeen</td>\n      <td>2022-09-03 14:00:00</td>\n      <td>Game ended in draw.</td>\n      <td>[{'id': 11316792, 'fixture_id': 18535521, 'typ...</td>\n      <td>[{'id': 273, 'sport_id': 1, 'country_id': 1161...</td>\n      <td>273</td>\n      <td>1161</td>\n      <td>Aberdeen</td>\n      <td>ABE</td>\n      <td>https://cdn.sportmonks.com/images/soccer/teams...</td>\n      <td>1903</td>\n      <td>246</td>\n      <td>1161</td>\n      <td>Ross County</td>\n      <td>RSC</td>\n      <td>https://cdn.sportmonks.com/images/soccer/teams...</td>\n      <td>1929</td>\n      <td>1</td>\n      <td>1</td>\n    </tr>\n    <tr>\n      <th>5</th>\n      <td>St. Johnstone vs St. Mirren</td>\n      <td>2022-09-03 14:00:00</td>\n      <td>St. Johnstone won after full-time.</td>\n      <td>[{'id': 11316798, 'fixture_id': 18535522, 'typ...</td>\n      <td>[{'id': 734, 'sport_id': 1, 'country_id': 1161...</td>\n      <td>734</td>\n      <td>1161</td>\n      <td>St. Johnstone</td>\n      <td>STJ</td>\n      <td>https://cdn.sportmonks.com/images/soccer/teams...</td>\n      <td>1885</td>\n      <td>496</td>\n      <td>1161</td>\n      <td>St. Mirren</td>\n      <td>STM</td>\n      <td>https://cdn.sportmonks.com/images/soccer/teams...</td>\n      <td>1877</td>\n      <td>3</td>\n      <td>0</td>\n    </tr>\n  </tbody>\n</table>\n</div>"
     },
     "execution_count": 253,
     "metadata": {},
     "output_type": "execute_result"
    }
   ],
   "source": [
    "df\n",
    "\n"
   ],
   "metadata": {
    "collapsed": false,
    "ExecuteTime": {
     "end_time": "2023-05-09T16:30:37.208518Z",
     "start_time": "2023-05-09T16:30:37.204265Z"
    }
   }
  },
  {
   "cell_type": "code",
   "execution_count": 252,
   "outputs": [],
   "source": [
    "\n",
    "\n"
   ],
   "metadata": {
    "collapsed": false,
    "ExecuteTime": {
     "end_time": "2023-05-09T16:30:30.823539Z",
     "start_time": "2023-05-09T16:30:30.821551Z"
    }
   }
  }
 ],
 "metadata": {
  "kernelspec": {
   "display_name": "Python 3",
   "language": "python",
   "name": "python3"
  },
  "language_info": {
   "codemirror_mode": {
    "name": "ipython",
    "version": 2
   },
   "file_extension": ".py",
   "mimetype": "text/x-python",
   "name": "python",
   "nbconvert_exporter": "python",
   "pygments_lexer": "ipython2",
   "version": "2.7.6"
  }
 },
 "nbformat": 4,
 "nbformat_minor": 0
}
