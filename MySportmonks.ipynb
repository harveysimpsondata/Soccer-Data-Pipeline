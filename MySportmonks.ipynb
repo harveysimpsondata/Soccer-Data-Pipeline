{
 "cells": [
  {
   "cell_type": "code",
   "execution_count": 379,
   "metadata": {
    "collapsed": true,
    "ExecuteTime": {
     "end_time": "2023-05-09T19:42:57.956082Z",
     "start_time": "2023-05-09T19:42:57.951520Z"
    }
   },
   "outputs": [],
   "source": [
    "import http.client\n",
    "import json\n",
    "import pandas as pd\n",
    "from pandas.io.json import json_normalize\n",
    "import numpy as np\n",
    "import requests\n",
    "import config"
   ]
  },
  {
   "cell_type": "code",
   "execution_count": 380,
   "outputs": [
    {
     "name": "stdout",
     "output_type": "stream",
     "text": [
      "True\n",
      "False\n"
     ]
    }
   ],
   "source": [
    "url1 = f\"https://api.sportmonks.com/v3/football/fixtures/date/2022-09-06?api_token={config.api_key}&include=scores;participants\"\n",
    "url2 = f\"https://api.sportmonks.com/v3/football/fixtures/date/2022-09-03?api_token={config.api_key}&include=scores;participants\"\n",
    "\n",
    "response2 = requests.get(url2)\n",
    "data2 = response2.json()\n",
    "print('data' in data2)\n",
    "\n",
    "response1 = requests.get(url1)\n",
    "data1 = response1.json()\n",
    "print('data' in data1)\n",
    "\n"
   ],
   "metadata": {
    "collapsed": false,
    "ExecuteTime": {
     "end_time": "2023-05-09T19:42:58.919426Z",
     "start_time": "2023-05-09T19:42:57.957022Z"
    }
   }
  },
  {
   "cell_type": "code",
   "execution_count": 381,
   "outputs": [],
   "source": [
    "url = f\"https://api.sportmonks.com/v3/football/fixtures/date/2022-09-03?api_token={config.api_key}&include=scores;participants\"\n",
    "\n",
    "response = requests.get(url)\n",
    "data = response.json()\n",
    "df = pd.DataFrame(data['data'])\\\n",
    "       .drop(columns=['id', 'sport_id', 'stage_id', 'league_id', 'season_id', 'group_id', 'aggregate_id', 'round_id', 'state_id', 'venue_id', 'leg','details','length','placeholder','has_odds','starting_at_timestamp'])"
   ],
   "metadata": {
    "collapsed": false,
    "ExecuteTime": {
     "end_time": "2023-05-09T19:42:59.415609Z",
     "start_time": "2023-05-09T19:42:58.921676Z"
    }
   }
  },
  {
   "cell_type": "code",
   "execution_count": 382,
   "outputs": [],
   "source": [
    "df['Date'] = pd.to_datetime(df['starting_at']).dt.date\n",
    "df = df.rename(columns={'name':'Game Match'})\n"
   ],
   "metadata": {
    "collapsed": false,
    "ExecuteTime": {
     "end_time": "2023-05-09T19:42:59.420226Z",
     "start_time": "2023-05-09T19:42:59.417805Z"
    }
   }
  },
  {
   "cell_type": "code",
   "execution_count": 383,
   "outputs": [],
   "source": [
    "scores = pd.json_normalize(df.scores, sep='_').rename(columns={4:'home_score', 5:'away_score'}).drop(columns=[0,1,2,3])\n",
    "home_scores = pd.json_normalize(scores.home_score, sep='_')\\\n",
    "                .rename(columns={'score_goals':'total_home_goals'})\\\n",
    "                .drop(columns=['score_participant', 'description', 'type_id', 'fixture_id', 'id', 'participant_id'])\n",
    "\n",
    "away_scores = pd.json_normalize(scores.away_score, sep='_')\\\n",
    "                .rename(columns={'score_goals':'total_away_goals'})\\\n",
    "                .drop(columns=['score_participant', 'description', 'type_id', 'fixture_id', 'id', 'participant_id'])\n",
    "\n"
   ],
   "metadata": {
    "collapsed": false,
    "ExecuteTime": {
     "end_time": "2023-05-09T19:42:59.430920Z",
     "start_time": "2023-05-09T19:42:59.429235Z"
    }
   }
  },
  {
   "cell_type": "code",
   "execution_count": 384,
   "outputs": [],
   "source": [
    "\n",
    "participants = pd.json_normalize(df.participants, sep='_').rename(columns={0:'home', 1:'away'})\n",
    "\n",
    "away = pd.json_normalize(participants.away, sep='_')\\\n",
    "         .rename(columns={'id':'away_id', 'name':'away_name', 'image_path':'away_image_path', 'founded':'away_founded', 'short_code': 'away_short_code', 'country_id': 'away_country_id'})\\\n",
    "         .drop(columns=['sport_id', 'type', 'placeholder', 'meta_location', 'meta_winner', 'meta_position', 'gender', 'last_played_at', 'venue_id'])\n",
    "\n",
    "home = pd.json_normalize(participants.home, sep='_')\\\n",
    "         .rename(columns={'id':'home_id', 'name':'home_name', 'image_path':'home_image_path', 'founded':'home_founded', 'short_code': 'home_short_code', 'country_id': 'home_country_id'})\\\n",
    "         .drop(columns=['sport_id', 'type', 'placeholder', 'meta_location', 'meta_winner', 'meta_position', 'gender', 'last_played_at', 'venue_id'])\n",
    "\n",
    "df = pd.concat([df, home, away, home_scores, away_scores], axis=1)"
   ],
   "metadata": {
    "collapsed": false,
    "ExecuteTime": {
     "end_time": "2023-05-09T19:42:59.444235Z",
     "start_time": "2023-05-09T19:42:59.434772Z"
    }
   }
  },
  {
   "cell_type": "code",
   "execution_count": 385,
   "outputs": [],
   "source": [
    "df_new = df.drop(columns=['scores', 'participants', 'starting_at'])\n",
    "df_new['home_win'] = np.where(df_new['total_home_goals'] > df_new['total_away_goals'], 1, 0)\n",
    "df_new['away_win'] = np.where(df_new['total_home_goals'] < df_new['total_away_goals'], 1, 0)\n",
    "df_new = df_new[['Date', 'Game Match', 'result_info', 'home_id', 'home_name', 'home_image_path', 'home_founded', 'home_short_code', 'home_country_id', 'total_home_goals', 'home_win', 'away_id', 'away_name', 'away_image_path', 'away_founded', 'away_short_code', 'away_country_id', 'total_away_goals', 'away_win']]"
   ],
   "metadata": {
    "collapsed": false,
    "ExecuteTime": {
     "end_time": "2023-05-09T19:42:59.446700Z",
     "start_time": "2023-05-09T19:42:59.444021Z"
    }
   }
  },
  {
   "cell_type": "code",
   "execution_count": 386,
   "outputs": [
    {
     "data": {
      "text/plain": "         Date                   Game Match  \\\n0  2022-09-03            Celtic vs Rangers   \n1  2022-09-03      Hibernian vs Kilmarnock   \n2  2022-09-03         Livingston vs Hearts   \n3  2022-09-03  Motherwell vs Dundee United   \n4  2022-09-03      Ross County vs Aberdeen   \n5  2022-09-03  St. Johnstone vs St. Mirren   \n\n                          result_info  home_id      home_name  \\\n0         Celtic won after full-time.       53         Celtic   \n1      Hibernian won after full-time.       66      Hibernian   \n2     Livingston won after full-time.      258     Livingston   \n3                 Game ended in draw.      309     Motherwell   \n4                 Game ended in draw.      273       Aberdeen   \n5  St. Johnstone won after full-time.      734  St. Johnstone   \n\n                                     home_image_path  home_founded  \\\n0  https://cdn.sportmonks.com/images/soccer/teams...          1888   \n1  https://cdn.sportmonks.com/images/soccer/teams...          1875   \n2  https://cdn.sportmonks.com/images/soccer/teams...          1943   \n3  https://cdn.sportmonks.com/images/soccer/teams...          1886   \n4  https://cdn.sportmonks.com/images/soccer/teams...          1903   \n5  https://cdn.sportmonks.com/images/soccer/teams...          1885   \n\n  home_short_code  home_country_id  total_home_goals  home_win  away_id  \\\n0             CEL             1161                 4         1       62   \n1             HIB             1161                 1         1      180   \n2             LIV             1161                 1         1      314   \n3             MOT             1161                 0         0      282   \n4             ABE             1161                 1         0      246   \n5             STJ             1161                 3         1      496   \n\n       away_name                                    away_image_path  \\\n0        Rangers  https://cdn.sportmonks.com/images/soccer/teams...   \n1     Kilmarnock  https://cdn.sportmonks.com/images/soccer/teams...   \n2         Hearts  https://cdn.sportmonks.com/images/soccer/teams...   \n3  Dundee United  https://cdn.sportmonks.com/images/soccer/teams...   \n4    Ross County  https://cdn.sportmonks.com/images/soccer/teams...   \n5     St. Mirren  https://cdn.sportmonks.com/images/soccer/teams...   \n\n   away_founded away_short_code  away_country_id  total_away_goals  away_win  \n0          1873             RAN             1161                 0         0  \n1          1869             KIL             1161                 0         0  \n2          1874            None             1161                 0         0  \n3          1909             DUD             1161                 0         0  \n4          1929             RSC             1161                 1         0  \n5          1877             STM             1161                 0         0  ",
      "text/html": "<div>\n<style scoped>\n    .dataframe tbody tr th:only-of-type {\n        vertical-align: middle;\n    }\n\n    .dataframe tbody tr th {\n        vertical-align: top;\n    }\n\n    .dataframe thead th {\n        text-align: right;\n    }\n</style>\n<table border=\"1\" class=\"dataframe\">\n  <thead>\n    <tr style=\"text-align: right;\">\n      <th></th>\n      <th>Date</th>\n      <th>Game Match</th>\n      <th>result_info</th>\n      <th>home_id</th>\n      <th>home_name</th>\n      <th>home_image_path</th>\n      <th>home_founded</th>\n      <th>home_short_code</th>\n      <th>home_country_id</th>\n      <th>total_home_goals</th>\n      <th>home_win</th>\n      <th>away_id</th>\n      <th>away_name</th>\n      <th>away_image_path</th>\n      <th>away_founded</th>\n      <th>away_short_code</th>\n      <th>away_country_id</th>\n      <th>total_away_goals</th>\n      <th>away_win</th>\n    </tr>\n  </thead>\n  <tbody>\n    <tr>\n      <th>0</th>\n      <td>2022-09-03</td>\n      <td>Celtic vs Rangers</td>\n      <td>Celtic won after full-time.</td>\n      <td>53</td>\n      <td>Celtic</td>\n      <td>https://cdn.sportmonks.com/images/soccer/teams...</td>\n      <td>1888</td>\n      <td>CEL</td>\n      <td>1161</td>\n      <td>4</td>\n      <td>1</td>\n      <td>62</td>\n      <td>Rangers</td>\n      <td>https://cdn.sportmonks.com/images/soccer/teams...</td>\n      <td>1873</td>\n      <td>RAN</td>\n      <td>1161</td>\n      <td>0</td>\n      <td>0</td>\n    </tr>\n    <tr>\n      <th>1</th>\n      <td>2022-09-03</td>\n      <td>Hibernian vs Kilmarnock</td>\n      <td>Hibernian won after full-time.</td>\n      <td>66</td>\n      <td>Hibernian</td>\n      <td>https://cdn.sportmonks.com/images/soccer/teams...</td>\n      <td>1875</td>\n      <td>HIB</td>\n      <td>1161</td>\n      <td>1</td>\n      <td>1</td>\n      <td>180</td>\n      <td>Kilmarnock</td>\n      <td>https://cdn.sportmonks.com/images/soccer/teams...</td>\n      <td>1869</td>\n      <td>KIL</td>\n      <td>1161</td>\n      <td>0</td>\n      <td>0</td>\n    </tr>\n    <tr>\n      <th>2</th>\n      <td>2022-09-03</td>\n      <td>Livingston vs Hearts</td>\n      <td>Livingston won after full-time.</td>\n      <td>258</td>\n      <td>Livingston</td>\n      <td>https://cdn.sportmonks.com/images/soccer/teams...</td>\n      <td>1943</td>\n      <td>LIV</td>\n      <td>1161</td>\n      <td>1</td>\n      <td>1</td>\n      <td>314</td>\n      <td>Hearts</td>\n      <td>https://cdn.sportmonks.com/images/soccer/teams...</td>\n      <td>1874</td>\n      <td>None</td>\n      <td>1161</td>\n      <td>0</td>\n      <td>0</td>\n    </tr>\n    <tr>\n      <th>3</th>\n      <td>2022-09-03</td>\n      <td>Motherwell vs Dundee United</td>\n      <td>Game ended in draw.</td>\n      <td>309</td>\n      <td>Motherwell</td>\n      <td>https://cdn.sportmonks.com/images/soccer/teams...</td>\n      <td>1886</td>\n      <td>MOT</td>\n      <td>1161</td>\n      <td>0</td>\n      <td>0</td>\n      <td>282</td>\n      <td>Dundee United</td>\n      <td>https://cdn.sportmonks.com/images/soccer/teams...</td>\n      <td>1909</td>\n      <td>DUD</td>\n      <td>1161</td>\n      <td>0</td>\n      <td>0</td>\n    </tr>\n    <tr>\n      <th>4</th>\n      <td>2022-09-03</td>\n      <td>Ross County vs Aberdeen</td>\n      <td>Game ended in draw.</td>\n      <td>273</td>\n      <td>Aberdeen</td>\n      <td>https://cdn.sportmonks.com/images/soccer/teams...</td>\n      <td>1903</td>\n      <td>ABE</td>\n      <td>1161</td>\n      <td>1</td>\n      <td>0</td>\n      <td>246</td>\n      <td>Ross County</td>\n      <td>https://cdn.sportmonks.com/images/soccer/teams...</td>\n      <td>1929</td>\n      <td>RSC</td>\n      <td>1161</td>\n      <td>1</td>\n      <td>0</td>\n    </tr>\n    <tr>\n      <th>5</th>\n      <td>2022-09-03</td>\n      <td>St. Johnstone vs St. Mirren</td>\n      <td>St. Johnstone won after full-time.</td>\n      <td>734</td>\n      <td>St. Johnstone</td>\n      <td>https://cdn.sportmonks.com/images/soccer/teams...</td>\n      <td>1885</td>\n      <td>STJ</td>\n      <td>1161</td>\n      <td>3</td>\n      <td>1</td>\n      <td>496</td>\n      <td>St. Mirren</td>\n      <td>https://cdn.sportmonks.com/images/soccer/teams...</td>\n      <td>1877</td>\n      <td>STM</td>\n      <td>1161</td>\n      <td>0</td>\n      <td>0</td>\n    </tr>\n  </tbody>\n</table>\n</div>"
     },
     "execution_count": 386,
     "metadata": {},
     "output_type": "execute_result"
    }
   ],
   "source": [
    "df_new\n"
   ],
   "metadata": {
    "collapsed": false,
    "ExecuteTime": {
     "end_time": "2023-05-09T19:42:59.456116Z",
     "start_time": "2023-05-09T19:42:59.453300Z"
    }
   }
  },
  {
   "cell_type": "code",
   "execution_count": 387,
   "outputs": [
    {
     "name": "stdout",
     "output_type": "stream",
     "text": [
      "<class 'pandas.core.frame.DataFrame'>\n",
      "RangeIndex: 6 entries, 0 to 5\n",
      "Data columns (total 19 columns):\n",
      " #   Column            Non-Null Count  Dtype \n",
      "---  ------            --------------  ----- \n",
      " 0   Date              6 non-null      object\n",
      " 1   Game Match        6 non-null      object\n",
      " 2   result_info       6 non-null      object\n",
      " 3   home_id           6 non-null      int64 \n",
      " 4   home_name         6 non-null      object\n",
      " 5   home_image_path   6 non-null      object\n",
      " 6   home_founded      6 non-null      int64 \n",
      " 7   home_short_code   6 non-null      object\n",
      " 8   home_country_id   6 non-null      int64 \n",
      " 9   total_home_goals  6 non-null      int64 \n",
      " 10  home_win          6 non-null      int64 \n",
      " 11  away_id           6 non-null      int64 \n",
      " 12  away_name         6 non-null      object\n",
      " 13  away_image_path   6 non-null      object\n",
      " 14  away_founded      6 non-null      int64 \n",
      " 15  away_short_code   5 non-null      object\n",
      " 16  away_country_id   6 non-null      int64 \n",
      " 17  total_away_goals  6 non-null      int64 \n",
      " 18  away_win          6 non-null      int64 \n",
      "dtypes: int64(10), object(9)\n",
      "memory usage: 1.0+ KB\n"
     ]
    }
   ],
   "source": [],
   "metadata": {
    "collapsed": false,
    "ExecuteTime": {
     "end_time": "2023-05-09T19:42:59.462577Z",
     "start_time": "2023-05-09T19:42:59.460665Z"
    }
   }
  }
 ],
 "metadata": {
  "kernelspec": {
   "display_name": "Python 3",
   "language": "python",
   "name": "python3"
  },
  "language_info": {
   "codemirror_mode": {
    "name": "ipython",
    "version": 2
   },
   "file_extension": ".py",
   "mimetype": "text/x-python",
   "name": "python",
   "nbconvert_exporter": "python",
   "pygments_lexer": "ipython2",
   "version": "2.7.6"
  }
 },
 "nbformat": 4,
 "nbformat_minor": 0
}
